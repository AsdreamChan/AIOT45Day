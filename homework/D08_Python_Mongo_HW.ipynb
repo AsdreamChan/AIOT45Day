{
 "cells": [
  {
   "cell_type": "markdown",
   "metadata": {},
   "source": [
    "# 作業： 使用 Python 操作 MongoDB"
   ]
  },
  {
   "cell_type": "markdown",
   "metadata": {},
   "source": [
    "# [作業目標]\n",
    "* 能夠使用 Python 對 MongoDB 的資料進行增刪改查操作。\n",
    "* 使用 Robo 3T 工具查看資料。"
   ]
  },
  {
   "cell_type": "markdown",
   "metadata": {},
   "source": [
    "# [作業重點]\n",
    "* 執行程式前，MongoDB Server 記得要先開啟。\n",
    "* 若 DB、Collection 原本不存在，則直到有第一筆資料 insert 進去，才會真的建立 DB 及 Collection"
   ]
  },
  {
   "cell_type": "markdown",
   "metadata": {},
   "source": [
    "# 作業1\n",
    "* 建立 DB 及 Collection (名稱自訂)，使用 Python 取得連線。"
   ]
  },
  {
   "cell_type": "code",
   "execution_count": 1,
   "metadata": {},
   "outputs": [],
   "source": [
    "from pymongo import MongoClient\n",
    "\n",
    "client = MongoClient(host='127.0.0.1', port=27017)\n",
    "\n",
    "# 連接資料庫\n",
    "db = client['test_py']\n",
    "# 指定集合\n",
    "collection = db['member']\n",
    "# 清空所有文檔\n",
    "result=collection.delete_many({})"
   ]
  },
  {
   "cell_type": "markdown",
   "metadata": {},
   "source": [
    "# 作業2\n",
    "* 使用 Python 操作 Mongo 中的資料。"
   ]
  },
  {
   "cell_type": "code",
   "execution_count": 2,
   "metadata": {},
   "outputs": [
    {
     "name": "stdout",
     "output_type": "stream",
     "text": [
      "5fddfb92bce58ae00fbf2528\n"
     ]
    }
   ],
   "source": [
    "mydata = {'name': 'Kevin', 'phone': '0912345678', 'email': 'test@gmail.com', 'age': 28}\n",
    "# 執行新增動作，把回傳結果存到result變數中\n",
    "result = collection.insert_one(mydata)\n",
    "# 印出新增的資料id\n",
    "print(result.inserted_id)"
   ]
  },
  {
   "cell_type": "code",
   "execution_count": 3,
   "metadata": {},
   "outputs": [
    {
     "name": "stdout",
     "output_type": "stream",
     "text": [
      "[ObjectId('5fddfb92bce58ae00fbf2529'), ObjectId('5fddfb92bce58ae00fbf252a'), ObjectId('5fddfb92bce58ae00fbf252b')]\n"
     ]
    }
   ],
   "source": [
    "# 宣告要新增的資料列表\n",
    "data_list = [\n",
    "    {'name': 'Kitty', 'phone': '0987654321', 'email': 'kitty@gmail.com', 'age': 26},\n",
    "    {'name': 'Michael', 'phone': '0912345678', 'email': 'michael@gmail.com', 'age': 15},\n",
    "    {'name': 'Mike', 'phone': '0932105689', 'email': 'mike@gmail.com', 'age': 17}\n",
    "]\n",
    "# 一次新增多筆資料\n",
    "result = collection.insert_many(data_list)\n",
    "print(result.inserted_ids)"
   ]
  },
  {
   "cell_type": "code",
   "execution_count": 4,
   "metadata": {},
   "outputs": [
    {
     "name": "stdout",
     "output_type": "stream",
     "text": [
      "4 collections\n",
      "3 collections\n",
      "delete 0 collections\n"
     ]
    }
   ],
   "source": [
    "# 刪除資料\n",
    "x = collection.count_documents({})\n",
    "print(x, 'collections')\n",
    "collection.delete_one({})\n",
    "x = collection.count_documents({})\n",
    "print(x, 'collections')\n",
    "collection.delete_one({'name': 'Kitty'})\n",
    "\n",
    "# 刪除多筆\n",
    "result = collection.delete_many({'name': 'Kitty'})\n",
    "print('delete', result.deleted_count, 'collections')"
   ]
  },
  {
   "cell_type": "code",
   "execution_count": 5,
   "metadata": {},
   "outputs": [
    {
     "data": {
      "text/plain": [
       "<pymongo.results.UpdateResult at 0x1d553749dc0>"
      ]
     },
     "execution_count": 5,
     "metadata": {},
     "output_type": "execute_result"
    }
   ],
   "source": [
    "'''修改單筆'''\n",
    "'''\n",
    "# 過濾條件\n",
    "filter_ = {'name': 'Kevin'}\n",
    "# 要改成甚麼資料\n",
    "update_ = {'$set': {'name': 'Green'}}\n",
    "# 呼叫 update_one 函式，並傳入上面兩個參數\n",
    "collection.update_one(filter_, update_)\n",
    "'''\n",
    "'''修改多筆'''\n",
    "filter_ = {'name': 'Kevin'}\n",
    "# 要改成甚麼資料\n",
    "update_ = {'$set': {'name': 'Green'}}\n",
    "# 呼叫 update_one 函式，並傳入上面兩個參數\n",
    "collection.update_many(filter_, update_)"
   ]
  },
  {
   "cell_type": "code",
   "execution_count": 6,
   "metadata": {},
   "outputs": [
    {
     "data": {
      "text/plain": [
       "{'_id': ObjectId('5fddfb92bce58ae00fbf252a'),\n",
       " 'name': 'Michael',\n",
       " 'phone': '0912345678',\n",
       " 'email': 'michael@gmail.com',\n",
       " 'age': 15}"
      ]
     },
     "execution_count": 6,
     "metadata": {},
     "output_type": "execute_result"
    }
   ],
   "source": [
    "'''查詢單筆資料'''\n",
    "result = collection.find_one({})\n",
    "result"
   ]
  },
  {
   "cell_type": "code",
   "execution_count": 7,
   "metadata": {},
   "outputs": [
    {
     "name": "stdout",
     "output_type": "stream",
     "text": [
      "{'_id': ObjectId('5fddfb92bce58ae00fbf252a'), 'name': 'Michael', 'phone': '0912345678', 'email': 'michael@gmail.com', 'age': 15}\n",
      "{'_id': ObjectId('5fddfb92bce58ae00fbf252b'), 'name': 'Mike', 'phone': '0932105689', 'email': 'mike@gmail.com', 'age': 17}\n"
     ]
    }
   ],
   "source": [
    "'''查詢多筆資料'''\n",
    "result = collection.find({})\n",
    "for x in result:\n",
    "    print(x)"
   ]
  },
  {
   "cell_type": "code",
   "execution_count": 8,
   "metadata": {},
   "outputs": [
    {
     "name": "stdout",
     "output_type": "stream",
     "text": [
      "{'_id': ObjectId('5fddfb92bce58ae00fbf252b'), 'name': 'Mike', 'phone': '0932105689', 'email': 'mike@gmail.com', 'age': 17}\n",
      "{'_id': ObjectId('5fddfb92bce58ae00fbf252a'), 'name': 'Michael', 'phone': '0912345678', 'email': 'michael@gmail.com', 'age': 15}\n"
     ]
    }
   ],
   "source": [
    "'''查詢多筆資料並排序'''\n",
    "result = collection.find({}).sort('age', -1)\n",
    "for x in result:\n",
    "    print(x)"
   ]
  },
  {
   "cell_type": "code",
   "execution_count": 9,
   "metadata": {},
   "outputs": [
    {
     "name": "stdout",
     "output_type": "stream",
     "text": [
      "{'_id': ObjectId('5fddfb92bce58ae00fbf252a'), 'name': 'Michael', 'phone': '0912345678', 'email': 'michael@gmail.com', 'age': 15}\n"
     ]
    }
   ],
   "source": [
    "'''查詢多筆資料並限制資料筆數'''\n",
    "result = collection.find({}).limit(1)\n",
    "for x in result:\n",
    "    print(x)"
   ]
  }
 ],
 "metadata": {
  "kernelspec": {
   "display_name": "Python 3",
   "language": "python",
   "name": "python3"
  },
  "language_info": {
   "codemirror_mode": {
    "name": "ipython",
    "version": 3
   },
   "file_extension": ".py",
   "mimetype": "text/x-python",
   "name": "python",
   "nbconvert_exporter": "python",
   "pygments_lexer": "ipython3",
   "version": "3.8.3"
  }
 },
 "nbformat": 4,
 "nbformat_minor": 4
}
